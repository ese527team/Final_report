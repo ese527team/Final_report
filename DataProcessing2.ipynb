{
 "cells": [
  {
   "cell_type": "code",
   "execution_count": 1,
   "id": "ab1c11c7",
   "metadata": {},
   "outputs": [],
   "source": [
    "#this is also an initial processing, we then get the future EPS as our label"
   ]
  },
  {
   "cell_type": "code",
   "execution_count": 2,
   "id": "6b365c10",
   "metadata": {},
   "outputs": [],
   "source": [
    "import pandas as pd\n",
    "import numpy as np\n",
    "import os\n",
    "import pandas as pd\n",
    "import matplotlib.pyplot as plt\n",
    "import numpy as np\n",
    "from sklearn.metrics import *\n",
    "from sklearn.ensemble import RandomForestRegressor\n",
    "from sklearn.preprocessing import StandardScaler\n",
    "import tensorflow as tf\n",
    "import datetime\n",
    "from sklearn.model_selection import train_test_split\n",
    "import numpy as np\n",
    "import pandas as pd\n",
    "from sklearn.model_selection import train_test_split\n",
    "from sklearn.ensemble import RandomForestRegressor\n",
    "from sklearn.inspection import permutation_importance\n",
    "from matplotlib import pyplot as plt"
   ]
  },
  {
   "cell_type": "code",
   "execution_count": 3,
   "id": "0a1bde67",
   "metadata": {},
   "outputs": [],
   "source": [
    "data = pd.read_csv(\"data.csv\",dtype={'Symbol': np.str},parse_dates=['Accper'])"
   ]
  },
  {
   "cell_type": "code",
   "execution_count": 4,
   "id": "80140834",
   "metadata": {},
   "outputs": [
    {
     "data": {
      "text/plain": [
       "Index(['Stkcd', 'Accper', 'Current_Ratio', 'Liquidity_Ratio', 'Cash_Ratio',\n",
       "       'Cash_Flow_Interest_Coverage_Ratio', 'Asset-liability_Ratio',\n",
       "       'Equity_Ratio', 'Total_Assets_Growth_Rate', 'Net_Profit_Growth_Rate',\n",
       "       'Comprehensive_Income_Growth_Rate', 'Sustainable_Growth_Rate',\n",
       "       'Owner_s_Equity_Growth_Rate', 'Financial_Leverage',\n",
       "       'Operating_Leverage', 'Accounts_Receivable_Turnover_Ratio',\n",
       "       'Inventory_Turnover_Ratio', 'Working_Capital_Turnover_Ratio',\n",
       "       'Cash_and_Cash_Equivalents_Turnover_Ratio',\n",
       "       'Current_Assets_Turnover_Ratio', 'Fixed_Assets_Turnover_Ratio',\n",
       "       'Total_Asset_Turnover_Ratio', 'Operating_Profit_Net_Cash_Content',\n",
       "       'Total_Cash_Recovery', 'Operational_Index', 'Return_On_Assets',\n",
       "       'Return_On_Net_Assets', 'EBIT', 'Operating_Profit_Margin',\n",
       "       'Cost_Profit_Margin', 'Cash-To-Profit_Ratio', 'Return_On_Investment',\n",
       "       'EPS', 'Future_EPS'],\n",
       "      dtype='object')"
      ]
     },
     "execution_count": 4,
     "metadata": {},
     "output_type": "execute_result"
    }
   ],
   "source": [
    "data.columns"
   ]
  },
  {
   "cell_type": "code",
   "execution_count": 5,
   "id": "f5c06bb4",
   "metadata": {},
   "outputs": [],
   "source": [
    "from dateutil.relativedelta import relativedelta\n",
    "import datetime"
   ]
  },
  {
   "cell_type": "code",
   "execution_count": 6,
   "id": "46ce0880",
   "metadata": {},
   "outputs": [],
   "source": [
    "# #测试时间函数\n",
    "# today=data.Accper[1]\n",
    "# np.datetime64(nextdate(today)) in data['Accper'].values"
   ]
  },
  {
   "cell_type": "code",
   "execution_count": 7,
   "id": "029bc96e",
   "metadata": {},
   "outputs": [],
   "source": [
    "#通过今天返回今天的下个季度的最后一天\n",
    "def nextdate(today):\n",
    "    today=today+datetime.timedelta(days=10)\n",
    "    next_date=datetime.date(today.year,today.month-(today.month-1)%3+2,1)+relativedelta(months=1,days=-1)\n",
    "    return next_date"
   ]
  },
  {
   "cell_type": "code",
   "execution_count": 8,
   "id": "537be48d",
   "metadata": {},
   "outputs": [],
   "source": [
    "##元组怎么用\n",
    "# def update_eps(x):\n",
    "#   print('len=',len(x['Accper']))\n",
    "#   for row in x.iterrows():\n",
    "#     if (np.datetime64(nextdate(row[1])) in x['Accper'].values):\n",
    "#       future_eps=x[x['Accper'] == np.datetime64(nextdate(row[1]))].iloc[:,-2]\n",
    "#       row[-1]=future_eps\n",
    "      "
   ]
  },
  {
   "cell_type": "code",
   "execution_count": 9,
   "id": "1020cd9a",
   "metadata": {},
   "outputs": [],
   "source": [
    "def update_eps(x):\n",
    "  global dataout\n",
    "  x=x.reset_index(drop=True)\n",
    "  for i in range(len(x['Accper'])):\n",
    "    if (np.datetime64(nextdate(x.Accper[i])) in x['Accper'].values):\n",
    "      future_eps=x[x['Accper'] == np.datetime64(nextdate(x.Accper[i]))].iloc[:,-2]\n",
    "      x.iloc[i,-1]=future_eps\n",
    "  dataout.append(x)"
   ]
  },
  {
   "cell_type": "code",
   "execution_count": 10,
   "id": "167d087f",
   "metadata": {},
   "outputs": [
    {
     "data": {
      "text/html": [
       "<div>\n",
       "<style scoped>\n",
       "    .dataframe tbody tr th:only-of-type {\n",
       "        vertical-align: middle;\n",
       "    }\n",
       "\n",
       "    .dataframe tbody tr th {\n",
       "        vertical-align: top;\n",
       "    }\n",
       "\n",
       "    .dataframe thead th {\n",
       "        text-align: right;\n",
       "    }\n",
       "</style>\n",
       "<table border=\"1\" class=\"dataframe\">\n",
       "  <thead>\n",
       "    <tr style=\"text-align: right;\">\n",
       "      <th></th>\n",
       "    </tr>\n",
       "  </thead>\n",
       "  <tbody>\n",
       "  </tbody>\n",
       "</table>\n",
       "</div>"
      ],
      "text/plain": [
       "Empty DataFrame\n",
       "Columns: []\n",
       "Index: []"
      ]
     },
     "execution_count": 10,
     "metadata": {},
     "output_type": "execute_result"
    }
   ],
   "source": [
    "dataout=[]#是个list\n",
    "data.groupby('Stkcd',group_keys=False).apply(update_eps)"
   ]
  },
  {
   "cell_type": "code",
   "execution_count": 11,
   "id": "a5ed1683",
   "metadata": {},
   "outputs": [],
   "source": [
    "data3=pd.concat(dataout)\n",
    "data3=data3.dropna()\n",
    "data3=data3.reset_index(drop=True)\n",
    "# data3=data3.drop(columns=['EPS'])"
   ]
  },
  {
   "cell_type": "code",
   "execution_count": 12,
   "id": "17c927df",
   "metadata": {},
   "outputs": [],
   "source": [
    "data3.to_csv(\"data_AP.csv\", index=False)"
   ]
  },
  {
   "cell_type": "code",
   "execution_count": null,
   "id": "9bc87e16",
   "metadata": {},
   "outputs": [],
   "source": []
  },
  {
   "cell_type": "code",
   "execution_count": null,
   "id": "6343169e",
   "metadata": {},
   "outputs": [],
   "source": []
  }
 ],
 "metadata": {
  "kernelspec": {
   "display_name": "Python 3 (ipykernel)",
   "language": "python",
   "name": "python3"
  },
  "language_info": {
   "codemirror_mode": {
    "name": "ipython",
    "version": 3
   },
   "file_extension": ".py",
   "mimetype": "text/x-python",
   "name": "python",
   "nbconvert_exporter": "python",
   "pygments_lexer": "ipython3",
   "version": "3.9.12"
  }
 },
 "nbformat": 4,
 "nbformat_minor": 5
}
